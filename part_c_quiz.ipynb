{
 "cells": [
  {
   "cell_type": "markdown",
   "metadata": {},
   "source": [
    "# Part C. 01 : 프로그래밍 역량 (단답형 , 10점)"
   ]
  },
  {
   "cell_type": "markdown",
   "metadata": {},
   "source": [
    "## Q1 : 핼렬의 덧셈 문항\n",
    "\n",
    "> ### 문제 설명  \n",
    ">> 행렬의 덧셈은 행과 열의 크기가 같은 두 행렬의 같은 행, 같은 열의 값을 서로 더한 결과가 됩니다. 2개의 행렬 arr1과 arr2를 입력받아, 행렬 덧셈의 결과를 반환하는 함수, solution을 완성해주세요.\n",
    "\n",
    "> ### 제한 조건  \n",
    ">> 행렬 arr1, arr2의 행과 열의 길이는 500을 넘지 않습니다.\n",
    "\n",
    "> ### 입출력 예  \n",
    ">> | arr1 | arr2 | return |  \n",
    ">> |-|-|-|  \n",
    ">> | [[1,2],[2,3]] | [[3,4],[5,6]] | [[4,6],[7,9]] |  \n",
    ">> | [[1],[2]] | [[3],[4]] | [[8],[6]] |  "
   ]
  },
  {
   "cell_type": "code",
   "execution_count": 1,
   "metadata": {},
   "outputs": [],
   "source": [
    "arr1_1 = [[1,2],[2,3]]\n",
    "arr2_1 = [[3,4],[5,6]]\n",
    "\n",
    "arr1_2 = [[1],[2]]\n",
    "arr2_2 = [[3],[4]]"
   ]
  },
  {
   "cell_type": "code",
   "execution_count": 2,
   "metadata": {},
   "outputs": [
    {
     "name": "stdout",
     "output_type": "stream",
     "text": [
      "[[4, 6], [7, 9]]\n",
      "[[4], [6]]\n"
     ]
    }
   ],
   "source": [
    "import numpy as np\n",
    "\n",
    "def solution(arr1, arr2):\n",
    "    answer = np.array(arr1) + np.array(arr2)\n",
    "    return answer.tolist()\n",
    "\n",
    "print(solution(arr1_1,arr2_1))\n",
    "print(solution(arr1_2,arr2_2))"
   ]
  },
  {
   "cell_type": "markdown",
   "metadata": {},
   "source": [
    "# Part C. 02 : 프로그래밍 역량 (단답형 , 10점)"
   ]
  },
  {
   "cell_type": "markdown",
   "metadata": {},
   "source": [
    "## Q2 : 완전 탐색 문항\n",
    "\n",
    "- 출처 : 네이버 프리코스 : part c 문제\n",
    "\n",
    "> ### 문제 설명\n",
    ">> Leo는 카펫을 사러 갔다가 아래 그림과 같이 중앙에는 노란색으로 칠해져 있고 테두리 1줄은 갈색으로 칠해져 있는 격자 모양 카펫을 봤습니다.  \n",
    ">> <br/>  \n",
    ">>      <img src='https://grepp-programmers.s3.ap-northeast-2.amazonaws.com/files/production/b1ebb809-f333-4df2-bc81-02682900dc2d/carpet.png' width = 200>  \n",
    ">>  <br/>  \n",
    ">> Leo는 집으로 돌아와서 아까 본 카펫의 노란색과 갈색으로 색칠된 격자의 개수는 기억했지만, 전체 카펫의 크기는 기억하지 못했습니다.  \n",
    ">> Leo가 본 카펫에서 갈색 격자의 수 brown, 노란색 격자의 수 yellow가 매개변수로 주어질 때 카펫의 가로, 세로 크기를 순서대로 배열에 담아 return 하도록 solution 함수를 작성해주세요.  \n",
    "\n",
    "> #### 제한사항\n",
    ">> 갈색 격자의 수 brown은 8 이상 5,000 이하인 자연수입니다.  \n",
    ">> 노란색 격자의 수 yellow는 1 이상 2,000,000 이하인 자연수입니다.  \n",
    ">> 카펫의 가로 길이는 세로 길이와 같거나, 세로 길이보다 깁니다.  \n",
    "\n",
    "> ### 입출력 예\n",
    ">> | brown | yellow | return |  \n",
    ">> |-|-|-|  \n",
    ">> |10|2| [4,3] |  \n",
    ">> |8|1| [3,3] |  \n",
    ">> |24|24| [8,6] |  \n",
    "\n",
    "> #### 출처\n",
    ">> ※ 공지 - 2020년 2월 3일 테스트케이스가 추가되었습니다.  \n",
    ">> ※ 공지 - 2020년 5월 11일 웹접근성을 고려하여 빨간색을 노란색으로 수정하였습니다.  "
   ]
  },
  {
   "cell_type": "code",
   "execution_count": 3,
   "metadata": {},
   "outputs": [],
   "source": [
    "b1 = 10\n",
    "y1 = 2\n",
    "\n",
    "b2 = 8\n",
    "y2 = 1\n",
    "\n",
    "b3 = 24\n",
    "y3 = 24"
   ]
  },
  {
   "cell_type": "code",
   "execution_count": 4,
   "metadata": {},
   "outputs": [],
   "source": [
    "import math\n",
    "import numpy as np\n",
    "\n",
    "def solution(brown, yellow) :\n",
    "    answer = []\n",
    "    max_y_h = math.floor(np.sqrt(yellow)) # 세로 <= 가로\n",
    "    max_b_h = math.floor(brown/2) # 세로 <= 가로\n",
    "    for y_h in range(1, max_y_h+1) :\n",
    "        y_w = yellow/y_h\n",
    "        if math.floor(y_w) - y_w == 0 :\n",
    "            for n in (1, max_b_h+1) :\n",
    "                if 2*(n*(y_w + y_h)+2*(n*n)) == brown : # 브라운이 노랑이를 둘러쌀 수 있는지\n",
    "                    w = int(y_w + 2)\n",
    "                    h = int(y_h + 2)\n",
    "                    answer = [w,h]\n",
    "                else :\n",
    "                    pass\n",
    "        else :\n",
    "            pass\n",
    "    return answer"
   ]
  },
  {
   "cell_type": "code",
   "execution_count": 5,
   "metadata": {},
   "outputs": [
    {
     "name": "stdout",
     "output_type": "stream",
     "text": [
      "[4, 3]\n",
      "[3, 3]\n",
      "[8, 6]\n"
     ]
    }
   ],
   "source": [
    "print(solution(b1,y1))\n",
    "print(solution(b2,y2))\n",
    "print(solution(b3,y3))"
   ]
  },
  {
   "cell_type": "markdown",
   "metadata": {},
   "source": [
    "# Part C. 02 : 프로그래밍 역량 (단답형 , 10점)"
   ]
  },
  {
   "cell_type": "markdown",
   "metadata": {},
   "source": [
    "- 출처 : 네이버 프리코스 part c 문제\n",
    "\n",
    "> ### 문제 설명\n",
    ">> 이중 우선순위 큐는 다음 연산을 할 수 있는 자료구조를 말합니다.\n",
    ">> | 명령어 | 수신 탑(높이) |  \n",
    ">> |-|-|  \n",
    ">> | I 숫자 | 큐에 주어진 숫자를 삽입합니다. |  \n",
    ">> | D 1 | 큐에서 최댓값을 삭제합니다. |  \n",
    ">> | D -1 | 큐에서 최솟값을 삭제합니다. |  \n",
    "\n",
    ">> 이중 우선순위 큐가 할 연산 operations가 매개변수로 주어질 때, 모든 연산을 처리한 후 큐가 비어있으면 [0,0] 비어있지 않으면 [최댓값, 최솟값]을 return 하도록 solution 함수를 구현해주세요.\n",
    "\n",
    "> ### 제한사항\n",
    ">> operations는 길이가 1 이상 1,000,000 이하인 문자열 배열입니다.  \n",
    ">> operations의 원소는 큐가 수행할 연산을 나타냅니다.  \n",
    ">> 원소는 “명령어 데이터” 형식으로 주어집니다.- 최댓값/최솟값을 삭제하는 연산에서 최댓값/최솟값이 둘 이상인 경우, 하나만 삭제합니다.  \n",
    ">> 빈 큐에 데이터를 삭제하라는 연산이 주어질 경우, 해당 연산은 무시합니다.\n",
    "\n",
    "> ### 입출력 예\n",
    ">> | operations | return |  \n",
    ">> | [\"I 16\", \"I -5643\", \"D -1\", \"D 1\", \"D 1\", \"I 123\", \"D -1\"] | [0,0] |  \n",
    ">> | [\"I -45\", \"I 653\", \"D 1\", \"I -642\", \"I 45\", \"I 97\", \"D 1\", \"D -1\", \"I 333\"] | [333, -45] |  \n",
    "\n",
    "> ### 입출력 예 설명\n",
    "\n",
    ">> #### 입출력 예 #1\n",
    ">>> 16과 -5643을 삽입합니다.  \n",
    ">>> 최솟값을 삭제합니다. -5643이 삭제되고 16이 남아있습니다.  \n",
    ">>> 최댓값을 삭제합니다. 16이 삭제되고 이중 우선순위 큐는 비어있습니다.  \n",
    ">>> 우선순위 큐가 비어있으므로 최댓값 삭제 연산이 무시됩니다.  \n",
    ">>> 123을 삽입합니다.  \n",
    ">>> 최솟값을 삭제합니다. 123이 삭제되고 이중 우선순위 큐는 비어있습니다.  \n",
    ">>> 따라서 [0, 0]을 반환합니다.  \n",
    "\n",
    ">> #### 입출력 예 #2\n",
    ">>> -45와 653을 삽입후 최댓값(653)을 삭제합니다. -45가 남아있습니다.  \n",
    ">>> -642, 45, 97을 삽입 후 최댓값(97), 최솟값(-642)을 삭제합니다. -45와 45가 남아있습니다.  \n",
    ">>> 333을 삽입합니다.  \n",
    ">>> 이중 우선순위 큐에 -45, 45, 333이 남아있으므로, [333, -45]를 반환합니다.  \n",
    "\n",
    "> ### 출처"
   ]
  },
  {
   "cell_type": "code",
   "execution_count": 6,
   "metadata": {},
   "outputs": [],
   "source": [
    "op1 = [\"I 16\", \"I -5643\", \"D -1\", \"D 1\", \"D 1\", \"I 123\", \"D -1\"]\n",
    "op2 = [\"I -45\", \"I 653\", \"D 1\", \"I -642\", \"I 45\", \"I 97\", \"D 1\", \"D -1\", \"I 333\"]"
   ]
  },
  {
   "cell_type": "code",
   "execution_count": 7,
   "metadata": {},
   "outputs": [],
   "source": [
    "import pandas as pd\n",
    "\n",
    "def solution(operations) :\n",
    "    answer = []\n",
    "    ans = []\n",
    "    df_o = pd.DataFrame(operations)\n",
    "    df_o = df_o[0].str.split(' ', expand=True)\n",
    "    for i in range(0, len(df_o)) :\n",
    "        j = df_o[0][i]\n",
    "        k = int(df_o[1][i])\n",
    "        if j == 'I' :\n",
    "            ans.append(k)\n",
    "        else :\n",
    "            if k == 1 :\n",
    "                if len(ans) == 0 :\n",
    "                    pass\n",
    "                else :\n",
    "                    a = max(ans)\n",
    "                    ans.remove(a)\n",
    "            else :\n",
    "                if len(ans) == 0 :\n",
    "                    pass\n",
    "                else :\n",
    "                    b = min(ans)\n",
    "                    ans.remove(b)\n",
    "    if len(ans) == 0 :\n",
    "        min_q = 0\n",
    "        max_q = 0\n",
    "    else :\n",
    "        min_q = min(ans)\n",
    "        max_q = max(ans)\n",
    "    answer.append(max_q)\n",
    "    answer.append(min_q)\n",
    "    return answer\n",
    "\n"
   ]
  },
  {
   "cell_type": "code",
   "execution_count": 8,
   "metadata": {},
   "outputs": [
    {
     "name": "stdout",
     "output_type": "stream",
     "text": [
      "[0, 0]\n",
      "[333, -45]\n"
     ]
    }
   ],
   "source": [
    "print(solution(op1))\n",
    "print(solution(op2))"
   ]
  },
  {
   "cell_type": "code",
   "execution_count": 1,
   "metadata": {},
   "outputs": [
    {
     "name": "stdout",
     "output_type": "stream",
     "text": [
      "['16', '-5643']\n",
      "['97', '-45']\n"
     ]
    }
   ],
   "source": [
    "op1 = [\"I 16\", \"I -5643\", \"D -1\", \"D 1\", \"D 1\", \"I 123\", \"D -1\"]    # [0,0]\n",
    "op2 = [\"I -45\", \"I 653\", \"D 1\", \"I -642\", \"I 45\", \"I 97\", \"D 1\", \"D -1\", \"I 333\"] #[333, -45]\n",
    "\n",
    "def sol(x) :\n",
    "\n",
    "    a = []\n",
    "\n",
    "    for op in x :\n",
    "        o, num  = op.split(sep = ' ')\n",
    "        if o == 'I' :\n",
    "            a.append(num)\n",
    "            a.sort()\n",
    "        else :\n",
    "            if len(a) == 0 :\n",
    "                continue\n",
    "            else :\n",
    "                if num == 1 :\n",
    "                    del a[a.index(-1)]\n",
    "                elif num == -1 :\n",
    "                    del a[a.index(0)]\n",
    "\n",
    "    answer = [max(a), min(a)]\n",
    "\n",
    "    return answer\n",
    "\n",
    "\n",
    "print(sol(op1))\n",
    "print(sol(op2))"
   ]
  },
  {
   "cell_type": "code",
   "execution_count": null,
   "metadata": {},
   "outputs": [],
   "source": []
  }
 ],
 "metadata": {
  "kernelspec": {
   "display_name": "Python 3.8.13 ('m1')",
   "language": "python",
   "name": "python3"
  },
  "language_info": {
   "codemirror_mode": {
    "name": "ipython",
    "version": 3
   },
   "file_extension": ".py",
   "mimetype": "text/x-python",
   "name": "python",
   "nbconvert_exporter": "python",
   "pygments_lexer": "ipython3",
   "version": "3.8.13"
  },
  "orig_nbformat": 4,
  "vscode": {
   "interpreter": {
    "hash": "bdc2b39dba4a1a2bb6d840bc8828727e3a4c4135026ee5b84640756028bbf810"
   }
  }
 },
 "nbformat": 4,
 "nbformat_minor": 2
}

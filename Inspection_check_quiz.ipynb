{
 "cells": [
  {
   "cell_type": "code",
   "execution_count": null,
   "metadata": {},
   "outputs": [],
   "source": [
    "x = [[1,4], [3,4], [3,10]]\n",
    "\n",
    "import numpy as np\n",
    "\n",
    "def solution(v):\n",
    "    answer = [0,0]\n",
    "\n",
    "    v = np.array(v)\n",
    "    a = v[0]\n",
    "    b = v[1]\n",
    "    c = v[2]\n",
    "\n",
    "    ab = a-b\n",
    "    ca = c-a\n",
    "    bc = b-c\n",
    "\n",
    "    dot_list = []\n",
    "    dot_list.append(np.dot(ca,ab))\n",
    "    dot_list.append(np.dot(ab,bc))\n",
    "    dot_list.append(np.dot(bc,ca))\n",
    "\n",
    "    for i in range(3) :\n",
    "        if dot_list[i] == 0 :         # i 꼭지점 내적 == 0 : 꼭지점을 낀 두 벡터는 수직\n",
    "            sum_v_list = v - v[i]     # i 꼭지점으로 부터 뻗어가능 방향 벡터\n",
    "            k = i                           # b 꼭지점이라면\n",
    "                                            # [a,b,c] - b = [a,b,c] - [b,b,b] = [a-b, 0, c-b]\n",
    "            for i in range(3) :       # 각 원소를 더하여 숨겨진 d 점을 찾는다\n",
    "                answer = answer + sum_v_list[i]\n",
    "\n",
    "\n",
    "    return answer + v[k]"
   ]
  },
  {
   "cell_type": "code",
   "execution_count": null,
   "metadata": {},
   "outputs": [
    {
     "data": {
      "text/plain": [
       "array([ 1, 10])"
      ]
     },
     "metadata": {},
     "output_type": "display_data"
    }
   ],
   "source": [
    "solution(x)"
   ]
  },
  {
   "cell_type": "code",
   "execution_count": null,
   "metadata": {},
   "outputs": [
    {
     "name": "stdout",
     "output_type": "stream",
     "text": [
      "*\n",
      "**\n",
      "***\n",
      "****\n",
      "*****\n"
     ]
    }
   ],
   "source": [
    "# n = int(input())\n",
    "n = 5\n",
    "\n",
    "for i in range(1, n+1) :\n",
    "    print('*' * i)"
   ]
  },
  {
   "cell_type": "code",
   "execution_count": null,
   "metadata": {},
   "outputs": [
    {
     "data": {
      "text/plain": [
       "[1, 2, 3, 4, 5]"
      ]
     },
     "metadata": {},
     "output_type": "display_data"
    }
   ],
   "source": [
    "n = 5\n",
    "\n",
    "def sol(n) :\n",
    "    answer = []\n",
    "    for i in range(n) :\n",
    "        answer.append(i+1)\n",
    "    return answer\n",
    "\n",
    "sol(n)"
   ]
  },
  {
   "cell_type": "code",
   "execution_count": null,
   "metadata": {},
   "outputs": [],
   "source": []
  }
 ],
 "metadata": {
  "kernelspec": {
   "display_name": "Python 3.8.13 ('m1')",
   "language": "python",
   "name": "python3"
  },
  "language_info": {
   "name": "python",
   "version": "3.8.13"
  },
  "orig_nbformat": 4,
  "vscode": {
   "interpreter": {
    "hash": "bdc2b39dba4a1a2bb6d840bc8828727e3a4c4135026ee5b84640756028bbf810"
   }
  }
 },
 "nbformat": 4,
 "nbformat_minor": 2
}

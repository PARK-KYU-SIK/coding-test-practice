{
 "cells": [
  {
   "cell_type": "markdown",
   "metadata": {},
   "source": [
    "# Index"
   ]
  },
  {
   "cell_type": "markdown",
   "metadata": {},
   "source": [
    "# Quiz 01 : 숫자 문자열과 영단어\n",
    "\n",
    "> 출처\n",
    ">> 프로그램머스\n",
    "\n",
    "> 문제 설명\n",
    ">> <Img src='https://grepp-programmers.s3.ap-northeast-2.amazonaws.com/files/production/d31cb063-4025-4412-8cbc-6ac6909cf93e/img1.png' width=500>\n",
    ">>\n",
    ">> 네오와 프로도가 숫자놀이를 하고 있습니다. 네오가 프로도에게 숫자를 건넬 때 일부 자릿수를 영단어로 바꾼 카드를 건네주면 프로도는 원래 숫자를 찾는 게임입니다.\n",
    ">>\n",
    ">> 다음은 숫자의 일부 자릿수를 영단어로 바꾸는 예시입니다.\n",
    ">>> - 1478 → \"one4seveneight\"\n",
    ">>> - 234567 → \"23four5six7\"\n",
    ">>> - 10203 → \"1zerotwozero3\"\n",
    ">> 이렇게 숫자의 일부 자릿수가 영단어로 바뀌어졌거나, 혹은 바뀌지 않고 그대로인 문자열 s가 매개변수로 주어집니다. s가 의미하는 원래 숫자를 return 하도록 solution 함수를 완성해주세요.\n",
    ">>\n",
    ">> 참고로 각 숫자에 대응되는 영단어는 다음 표와 같습니다.\n",
    ">>\n",
    ">> | 숫자 | 0 | 1 | 2 | 3 | 4 | 5 | 6 | 7 | 8 | 9 |\n",
    ">> | - | - | - | - | - | - | - | - | - | - | - |\n",
    ">> | 영단어 | zero | one | two | three | four | five | six | seven | eight | nine |\n",
    "<br/>\n",
    "\n",
    "> 제한 사항\n",
    ">> - 1 ≤ s의 길이 ≤ 50\n",
    ">> - s가 \"zero\" 또는 \"0\"으로 시작하는 경우는 주어지지 않습니다.\n",
    ">> - return 값이 1 이상 2,000,000,000 이하의 정수가 되는 올바른 입력만 s로 주어집니다.\n",
    "\n",
    "> 입출력 예\n",
    ">> | s | result |\n",
    ">> | - | - |\n",
    ">> | 'one4seveneight' | 1478 |\n",
    ">> | '23four5six7' | 234567 |\n",
    ">> | '2three45sixseven' | 234567 |\n",
    ">> | '123' | 123 |\n",
    "<br/>\n",
    "\n",
    "> 입출력 예 설명\n",
    ">> 입출력 예 #1\n",
    ">>> - 예시와 같습니다\n",
    ">\n",
    ">> 입출력 예 #2\n",
    ">>> - 예시와 같습니다\n",
    ">\n",
    ">> 입출력 예 #3\n",
    ">>> - \"three\"는 3, \"six\"는 6, \"seven\"은 7에 대응되기 때문에 정답은 입출력 예 #2와 같은 234567이 됩니다.\n",
    ">>> - 입출력 예 #2와 #3과 같이 같은 정답을 가리키는 문자열이 여러 가지가 나올 수 있습니다.\n",
    ">\n",
    ">> 입출력 예 #4\n",
    ">>> - s에는 영단어로 바뀐 부분이 없습니다.\n",
    "\n",
    "> 제한시간 안내\n",
    ">> - 적확성 테스트 : 10초 이내\n",
    "\n"
   ]
  },
  {
   "cell_type": "markdown",
   "metadata": {},
   "source": [
    "## -01 : 내 풀이"
   ]
  },
  {
   "cell_type": "code",
   "execution_count": 34,
   "metadata": {},
   "outputs": [],
   "source": [
    "s1 = \"one4seveneight\"     # 1478\n",
    "s2 = \"23four5six7\"        # 234567\n",
    "s3 = \"2three45sixseven\"   # 234567\n",
    "s4 = \"123\"                # 123\n",
    "s = [s1, s2, s3, s4]"
   ]
  },
  {
   "cell_type": "code",
   "execution_count": 52,
   "metadata": {},
   "outputs": [
    {
     "name": "stdout",
     "output_type": "stream",
     "text": [
      "1478 <class 'int'>\n",
      "234567 <class 'int'>\n",
      "234567 <class 'int'>\n",
      "123 <class 'int'>\n"
     ]
    }
   ],
   "source": [
    "def sol(x) :\n",
    "    eng = [\"zero\", \"one\", 'two', 'three', 'four', 'five', 'six', 'seven', 'eight', 'nine']\n",
    "    for n,e in enumerate(eng) :\n",
    "        if e in x :\n",
    "            x = x.replace(e, str(n))\n",
    "    x = int(x)\n",
    "    return x\n",
    "\n",
    "for i in s :\n",
    "    print(sol(i),type(sol(i)))"
   ]
  },
  {
   "cell_type": "code",
   "execution_count": null,
   "metadata": {},
   "outputs": [],
   "source": []
  }
 ],
 "metadata": {
  "kernelspec": {
   "display_name": "Python 3.8.13 ('m1')",
   "language": "python",
   "name": "python3"
  },
  "language_info": {
   "codemirror_mode": {
    "name": "ipython",
    "version": 3
   },
   "file_extension": ".py",
   "mimetype": "text/x-python",
   "name": "python",
   "nbconvert_exporter": "python",
   "pygments_lexer": "ipython3",
   "version": "3.8.13"
  },
  "orig_nbformat": 4,
  "vscode": {
   "interpreter": {
    "hash": "bdc2b39dba4a1a2bb6d840bc8828727e3a4c4135026ee5b84640756028bbf810"
   }
  }
 },
 "nbformat": 4,
 "nbformat_minor": 2
}

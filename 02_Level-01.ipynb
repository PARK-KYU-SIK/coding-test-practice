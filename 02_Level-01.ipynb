{
 "cells": [
  {
   "cell_type": "markdown",
   "metadata": {},
   "source": [
    "1. s 문자열을 num, eng 문자열을 활용하여 분리한 후 new 하나의 리스트에 담는다 (순서를 유지하기 위함)\n",
    "    - num = [0,1,2,3,4,5,6,7,8,9]  \n",
    "    - eng = ['zero', 'one', 'two', 'three', 'four', 'five', 'six', 'seven', 'eight', 'nine']  \n",
    "\n",
    "2. for n, e in enumerate(eng, 0) :  반복문을 통해 n 을 숫자로 변경한다  \n",
    "    > cnt = -1  \n",
    "    > for i in new :  \n",
    "    > cnt += 1\n",
    "    >> for n,e in enumerate(eng, 0) :  \n",
    "    >>> if i == e :  \n",
    "    >>>> new[cnt] = n  \n",
    "    >>> elif int(i) == n\n",
    "    >>>> new[cnt] = n  \n",
    "    > cnt = 0  \n",
    "    > answer = 0\n",
    "    > for i in new  \n",
    "    >> answer = answer + i * ( 10 * cnt )  \n",
    "    >> cnt += 1  \n",
    "\n",
    "    > return answer\n",
    "\n",
    "\n"
   ]
  },
  {
   "cell_type": "code",
   "execution_count": null,
   "metadata": {},
   "outputs": [
    {
     "data": {
      "text/html": [
       "<div>\n",
       "<style scoped>\n",
       "    .dataframe tbody tr th:only-of-type {\n",
       "        vertical-align: middle;\n",
       "    }\n",
       "\n",
       "    .dataframe tbody tr th {\n",
       "        vertical-align: top;\n",
       "    }\n",
       "\n",
       "    .dataframe thead th {\n",
       "        text-align: right;\n",
       "    }\n",
       "</style>\n",
       "<table border=\"1\" class=\"dataframe\">\n",
       "  <thead>\n",
       "    <tr style=\"text-align: right;\">\n",
       "      <th></th>\n",
       "      <th>0</th>\n",
       "      <th>1</th>\n",
       "    </tr>\n",
       "  </thead>\n",
       "  <tbody>\n",
       "    <tr>\n",
       "      <th>0</th>\n",
       "      <td>12onetwo43threefour</td>\n",
       "      <td>[12onetwo43threefour]</td>\n",
       "    </tr>\n",
       "  </tbody>\n",
       "</table>\n",
       "</div>"
      ],
      "text/plain": [
       "                     0                      1\n",
       "0  12onetwo43threefour  [12onetwo43threefour]"
      ]
     },
     "metadata": {},
     "output_type": "display_data"
    }
   ],
   "source": [
    "import pandas as pd\n",
    "a = ['12onetwo43threefour']\n",
    "df_a = pd.DataFrame(a)\n",
    "df_a[1] = df_a[0].str.split('[0-9][(^one$)][(^two$)][(^three$)][(^four$)]')\n",
    "display(df_a)"
   ]
  },
  {
   "cell_type": "markdown",
   "metadata": {},
   "source": [
    "(\\bzero\\B)|(\\Bone\\B)|(\\Btwo\\B)|(\\Bthree\\B)|(\\Bfour\\B)|(\\Bfive\\B)|(\\Bsix\\B)|(\\Bseven\\B)|(\\Beight\\B)|(\\Bnine\\b)|([0-9])\n",
    "\n",
    "(one$)|(two$)|(three$)|($)|($)|($)|($)|($)|($)"
   ]
  },
  {
   "cell_type": "code",
   "execution_count": null,
   "metadata": {},
   "outputs": [
    {
     "data": {
      "text/plain": [
       "['12', 'two43threefour']"
      ]
     },
     "metadata": {},
     "output_type": "display_data"
    }
   ],
   "source": [
    "a = ['12onetwo43threefouronetwoone']\n",
    "num = [0,1,2,3,4,5,6,7,8,9]\n",
    "eng = ['zero', 'one', 'two', 'three', 'four', 'five', 'six', 'seven', 'eight', 'nine']\n",
    "\n",
    "a = a.split"
   ]
  },
  {
   "cell_type": "code",
   "execution_count": null,
   "metadata": {},
   "outputs": [
    {
     "ename": "TypeError",
     "evalue": "unsupported operand type(s) for +: 'int' and 'list'",
     "output_type": "error",
     "traceback": [
      "\u001b[0;31m---------------------------------------------------------------------------\u001b[0m\n",
      "\u001b[0;31mTypeError\u001b[0m                                 Traceback (most recent call last)\n",
      "\u001b[1;32m/Users/parkkyusik/VScode/Coding_test/Coding_quiz.ipynb 셀 20\u001b[0m in \u001b[0;36m<cell line: 28>\u001b[0;34m()\u001b[0m\n",
      "\u001b[1;32m     <a href='vscode-notebook-cell:/Users/parkkyusik/VScode/Coding_test/Coding_quiz.ipynb#X30sZmlsZQ%3D%3D?line=23'>24</a>\u001b[0m         cnt \u001b[39m+\u001b[39m\u001b[39m=\u001b[39m \u001b[39m1\u001b[39m  \n",
      "\u001b[1;32m     <a href='vscode-notebook-cell:/Users/parkkyusik/VScode/Coding_test/Coding_quiz.ipynb#X30sZmlsZQ%3D%3D?line=25'>26</a>\u001b[0m     \u001b[39mreturn\u001b[39;00m answer\n",
      "\u001b[0;32m---> <a href='vscode-notebook-cell:/Users/parkkyusik/VScode/Coding_test/Coding_quiz.ipynb#X30sZmlsZQ%3D%3D?line=27'>28</a>\u001b[0m \u001b[39mprint\u001b[39m(sol(s1))\n",
      "\n",
      "\u001b[1;32m/Users/parkkyusik/VScode/Coding_test/Coding_quiz.ipynb 셀 20\u001b[0m in \u001b[0;36msol\u001b[0;34m(s)\u001b[0m\n",
      "\u001b[1;32m     <a href='vscode-notebook-cell:/Users/parkkyusik/VScode/Coding_test/Coding_quiz.ipynb#X30sZmlsZQ%3D%3D?line=20'>21</a>\u001b[0m answer \u001b[39m=\u001b[39m \u001b[39m0\u001b[39m\n",
      "\u001b[1;32m     <a href='vscode-notebook-cell:/Users/parkkyusik/VScode/Coding_test/Coding_quiz.ipynb#X30sZmlsZQ%3D%3D?line=21'>22</a>\u001b[0m \u001b[39mfor\u001b[39;00m i \u001b[39min\u001b[39;00m new :\n",
      "\u001b[0;32m---> <a href='vscode-notebook-cell:/Users/parkkyusik/VScode/Coding_test/Coding_quiz.ipynb#X30sZmlsZQ%3D%3D?line=22'>23</a>\u001b[0m     answer \u001b[39m=\u001b[39m answer \u001b[39m+\u001b[39;49m i \u001b[39m*\u001b[39;49m ( \u001b[39m10\u001b[39;49m \u001b[39m*\u001b[39;49m cnt )  \n",
      "\u001b[1;32m     <a href='vscode-notebook-cell:/Users/parkkyusik/VScode/Coding_test/Coding_quiz.ipynb#X30sZmlsZQ%3D%3D?line=23'>24</a>\u001b[0m     cnt \u001b[39m+\u001b[39m\u001b[39m=\u001b[39m \u001b[39m1\u001b[39m  \n",
      "\u001b[1;32m     <a href='vscode-notebook-cell:/Users/parkkyusik/VScode/Coding_test/Coding_quiz.ipynb#X30sZmlsZQ%3D%3D?line=25'>26</a>\u001b[0m \u001b[39mreturn\u001b[39;00m answer\n",
      "\n",
      "\u001b[0;31mTypeError\u001b[0m: unsupported operand type(s) for +: 'int' and 'list'"
     ]
    }
   ],
   "source": [
    "s1 = [\"one4seveneight\"]\n",
    "s2 = [\"23four5six7\"]\n",
    "s3 = [\"2three45sixseven\"]\n",
    "s4 = [\"123\"]\n",
    "\n",
    "def sol(s) :\n",
    "\n",
    "    num = [0,1,2,3,4,5,6,7,8,9]  \n",
    "    eng = ['zero', 'one', 'two', 'three', 'four', 'five', 'six', 'seven', 'eight', 'nine']  \n",
    "    cnt = -1\n",
    "    new = pd.DataFrame(s)[0].str.split('(\\Bzero)|(\\Bone)|(\\Btwo)|(\\Bthree)|(\\Bfour)|(\\Bfive)|(\\Bsix)|(\\Bseven)|(\\Beight)|(\\Bnine)|([0-9]{1})')\n",
    "\n",
    "    for i in new :  \n",
    "        cnt += 1\n",
    "        for n,e in enumerate(eng, 0) :  \n",
    "            if i == e :  \n",
    "                new[cnt] = n  \n",
    "            elif i == str(n) :\n",
    "                new[cnt] = n  \n",
    "    cnt = 0  \n",
    "    answer = 0\n",
    "    for i in new :\n",
    "        answer = answer + i * ( 10 * cnt )  \n",
    "        cnt += 1  \n",
    "\n",
    "    return answer\n",
    "\n",
    "print(sol(s1))"
   ]
  },
  {
   "cell_type": "code",
   "execution_count": null,
   "metadata": {},
   "outputs": [
    {
     "ename": "UnboundLocalError",
     "evalue": "local variable 'answer' referenced before assignment",
     "output_type": "error",
     "traceback": [
      "\u001b[0;31m---------------------------------------------------------------------------\u001b[0m\n",
      "\u001b[0;31mUnboundLocalError\u001b[0m                         Traceback (most recent call last)\n",
      "\u001b[1;32m/Users/parkkyusik/VScode/Coding_test/Coding_quiz.ipynb 셀 20\u001b[0m in \u001b[0;36m<cell line: 14>\u001b[0;34m()\u001b[0m\n",
      "\u001b[1;32m     <a href='vscode-notebook-cell:/Users/parkkyusik/VScode/Coding_test/Coding_quiz.ipynb#X32sZmlsZQ%3D%3D?line=10'>11</a>\u001b[0m             answer\u001b[39m=\u001b[39m\u001b[39mint\u001b[39m(s)\n",
      "\u001b[1;32m     <a href='vscode-notebook-cell:/Users/parkkyusik/VScode/Coding_test/Coding_quiz.ipynb#X32sZmlsZQ%3D%3D?line=11'>12</a>\u001b[0m     \u001b[39mreturn\u001b[39;00m answer\n",
      "\u001b[0;32m---> <a href='vscode-notebook-cell:/Users/parkkyusik/VScode/Coding_test/Coding_quiz.ipynb#X32sZmlsZQ%3D%3D?line=13'>14</a>\u001b[0m \u001b[39mprint\u001b[39m(sol(s1))\n",
      "\n",
      "\u001b[1;32m/Users/parkkyusik/VScode/Coding_test/Coding_quiz.ipynb 셀 20\u001b[0m in \u001b[0;36msol\u001b[0;34m(s)\u001b[0m\n",
      "\u001b[1;32m     <a href='vscode-notebook-cell:/Users/parkkyusik/VScode/Coding_test/Coding_quiz.ipynb#X32sZmlsZQ%3D%3D?line=9'>10</a>\u001b[0m         s\u001b[39m.\u001b[39mreplace(key, \u001b[39mstr\u001b[39m(value))\n",
      "\u001b[1;32m     <a href='vscode-notebook-cell:/Users/parkkyusik/VScode/Coding_test/Coding_quiz.ipynb#X32sZmlsZQ%3D%3D?line=10'>11</a>\u001b[0m         answer\u001b[39m=\u001b[39m\u001b[39mint\u001b[39m(s)\n",
      "\u001b[0;32m---> <a href='vscode-notebook-cell:/Users/parkkyusik/VScode/Coding_test/Coding_quiz.ipynb#X32sZmlsZQ%3D%3D?line=11'>12</a>\u001b[0m \u001b[39mreturn\u001b[39;00m answer\n",
      "\n",
      "\u001b[0;31mUnboundLocalError\u001b[0m: local variable 'answer' referenced before assignment"
     ]
    }
   ],
   "source": [
    "s1 = [\"one4seveneight\"]\n",
    "s2 = [\"23four5six7\"]\n",
    "s3 = [\"2three45sixseven\"]\n",
    "s4 = [\"123\"]\n",
    "\n",
    "def sol(s) :\n",
    "    dic={'one': 1, 'two': 2, 'three': 3, 'four': 4, 'five': 5, 'six': 6, 'seven': 7,'eight': 8, 'nine': 9, 'zero': 0}\n",
    "    for key, value in dic.items():\n",
    "        if key in s:\n",
    "            s.replace(key, str(value))\n",
    "            answer=int(s)\n",
    "    return answer\n",
    "\n",
    "print(sol(s1))"
   ]
  }
 ],
 "metadata": {
  "kernelspec": {
   "display_name": "Python 3.8.13 ('m1')",
   "language": "python",
   "name": "python3"
  },
  "language_info": {
   "name": "python",
   "version": "3.8.13"
  },
  "orig_nbformat": 4,
  "vscode": {
   "interpreter": {
    "hash": "bdc2b39dba4a1a2bb6d840bc8828727e3a4c4135026ee5b84640756028bbf810"
   }
  }
 },
 "nbformat": 4,
 "nbformat_minor": 2
}

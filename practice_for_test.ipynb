{
 "cells": [
  {
   "cell_type": "markdown",
   "metadata": {},
   "source": [
    "# 자주 사용하는 프로그램밍 용어 복습"
   ]
  },
  {
   "cell_type": "markdown",
   "metadata": {},
   "source": [
    "## 01 : 올림/내림/반올림"
   ]
  },
  {
   "cell_type": "code",
   "execution_count": 1,
   "metadata": {},
   "outputs": [
    {
     "name": "stdout",
     "output_type": "stream",
     "text": [
      "322.0\n",
      "321.0\n",
      "321.34\n",
      "320.0\n"
     ]
    }
   ],
   "source": [
    "import numpy as np\n",
    "\n",
    "a = 321.34225\n",
    "\n",
    "# 올림\n",
    "print(np.ceil(a))\n",
    "\n",
    "# 내림\n",
    "print(np.trunc(a))\n",
    "\n",
    "# 반올림 (소수 몇째 점 2째자리 까지 살리기)\n",
    "print(round(a,2))\n",
    "\n",
    "# 반올림 (10의 자리수 까지 살리기)\n",
    "print(round(a,-1))"
   ]
  },
  {
   "cell_type": "markdown",
   "metadata": {},
   "source": [
    "## 02 : Basic Math"
   ]
  },
  {
   "cell_type": "markdown",
   "metadata": {},
   "source": [
    "- 자연상수\n",
    "> $\\displaystyle{e = \\lim_{n \\to \\infty}(1 \\; + \\; \\frac{1}{n})^n}$  "
   ]
  },
  {
   "cell_type": "markdown",
   "metadata": {},
   "source": [
    "- 삼각함수\n",
    "> $\\displaystyle{tan(x) \\; = \\; \\frac{sin(x)}{cos(x)}}$  \n",
    "\n",
    "> $sin^{\\\\'}(x) \\; = \\; cos(x)$  \n",
    "    $cos^{\\\\'}(x) \\; = \\; -sin(x)$  \n",
    "    $tan^{\\\\'}(x) \\; = \\; sec^2(x)$  \n",
    "\n",
    "> $\\displaystyle{csc(x) \\; = \\; \\frac{1}{sin(x)}}$  \n",
    "    $\\displaystyle{sec(x) \\; = \\; \\frac{1}{cos(x)}}$  \n",
    "    $\\displaystyle{cot(x) \\; = \\; \\frac{1}{tan(x)}}$  \n",
    "\n",
    "> $csc^{\\\\'}(x) \\; = \\; -csc(x)cot(x)$  \n",
    "    $sec^{\\\\'}(x) \\; = \\; sec(x)tan(x)$  \n",
    "    $cot^{\\\\'}(x) \\; = \\; -csc^2(x)$  "
   ]
  },
  {
   "cell_type": "markdown",
   "metadata": {},
   "source": [
    "- 미분법\n",
    "> $\\displaystyle{(\\frac{f(x)}{g(x)})^{\\\\'} \\; = \\; \\frac{f^{\\\\'}(x)g(x) \\; - \\; g^{\\\\'}(x)f(x)}{g^2(x)} \\quad \\rightarrow \\quad 몫의 \\; 미분법}$"
   ]
  },
  {
   "cell_type": "markdown",
   "metadata": {},
   "source": [
    "## 03 : for 문 변수 2개 사용"
   ]
  },
  {
   "cell_type": "markdown",
   "metadata": {},
   "source": [
    "### -01 : iter + 변수\n",
    "\n",
    "    for i, x in enumerate(list, int) :\n",
    "\n",
    "> 주의사항\n",
    ">> for iter, list in enumerate(list, star_iter_No)\n",
    ">>> 위치가 매칭되지 않으니 헷갈리면 안된다"
   ]
  },
  {
   "cell_type": "markdown",
   "metadata": {},
   "source": [
    "#### _01 : 0 부터 index 지정"
   ]
  },
  {
   "cell_type": "code",
   "execution_count": 2,
   "metadata": {},
   "outputs": [
    {
     "name": "stdout",
     "output_type": "stream",
     "text": [
      "0 Alice\n",
      "1 Bob\n",
      "2 Charlie\n"
     ]
    }
   ],
   "source": [
    "listdata = ['Alice', 'Bob', 'Charlie']\n",
    "\n",
    "for i, name in enumerate(listdata):\n",
    "    print(i, name)"
   ]
  },
  {
   "cell_type": "markdown",
   "metadata": {},
   "source": [
    "#### _02 : 지정 index 지정"
   ]
  },
  {
   "cell_type": "code",
   "execution_count": 3,
   "metadata": {},
   "outputs": [
    {
     "name": "stdout",
     "output_type": "stream",
     "text": [
      "10 Alice\n",
      "11 Bob\n",
      "12 Charlie\n"
     ]
    }
   ],
   "source": [
    "listdata = ['Alice', 'Bob', 'Charlie']\n",
    "\n",
    "for i, name in enumerate(listdata, 10):\n",
    "    print(i, name)"
   ]
  },
  {
   "cell_type": "markdown",
   "metadata": {},
   "source": [
    "### -02 : 변수1 + 변수2\n",
    "\n",
    "    for x, y in zip (x_list, y_list)\n",
    "\n",
    "> 활용방법  \n",
    ">> Key : data 를 만들어 DataFrame 을 생성해 볼 수 있다\n",
    ">>> emumerate for 를 한번 더 반복해 줌으로 써 index 를 추가하는 것도 가능하다"
   ]
  },
  {
   "cell_type": "code",
   "execution_count": 4,
   "metadata": {},
   "outputs": [
    {
     "name": "stdout",
     "output_type": "stream",
     "text": [
      "Alice 24\n",
      "Bob 50\n",
      "Charlie 18\n"
     ]
    }
   ],
   "source": [
    "names = ['Alice', 'Bob', 'Charlie']\n",
    "ages = [24, 50, 18]\n",
    "\n",
    "for name, age in zip(names, ages):\n",
    "    print(name, age)"
   ]
  },
  {
   "cell_type": "code",
   "execution_count": 5,
   "metadata": {},
   "outputs": [
    {
     "data": {
      "text/plain": [
       "['4345342']"
      ]
     },
     "execution_count": 5,
     "metadata": {},
     "output_type": "execute_result"
    }
   ],
   "source": [
    "import numpy as np\n",
    "\n",
    "n = 4345342\n",
    "\n",
    "def solution(n):    \n",
    "    a = []\n",
    "    a.append(str(n))\n",
    "    a.sort(reverse=True)\n",
    "    answer = a\n",
    "    return answer\n",
    "\n",
    "solution(n)"
   ]
  },
  {
   "cell_type": "code",
   "execution_count": 6,
   "metadata": {},
   "outputs": [
    {
     "name": "stdout",
     "output_type": "stream",
     "text": [
      "6\n"
     ]
    }
   ],
   "source": [
    "n = 123456\n",
    "\n",
    "n = str(n)\n",
    "\n",
    "list_a = []\n",
    "list_a.append(n)\n",
    "print(len(n))\n"
   ]
  },
  {
   "cell_type": "markdown",
   "metadata": {},
   "source": [
    "## 04 : 정규표현식"
   ]
  },
  {
   "cell_type": "code",
   "execution_count": 7,
   "metadata": {},
   "outputs": [
    {
     "data": {
      "text/plain": [
       "654321"
      ]
     },
     "execution_count": 7,
     "metadata": {},
     "output_type": "execute_result"
    }
   ],
   "source": [
    "n = 123456\n",
    "\n",
    "def solution(n):    \n",
    "    a = []\n",
    "    k = n\n",
    "\n",
    "    for i in range(0, len(str(n))) :\n",
    "        몫 = k // 10\n",
    "        나머지 = k % 10\n",
    "        a.append(나머지)\n",
    "        k = ( k - 나머지 ) / 10\n",
    "\n",
    "    a.sort()\n",
    "    answer = 0\n",
    "\n",
    "    for i in range(0,len(str(n))) :\n",
    "        answer = int(a[i]) * ( 10 ** i ) + answer\n",
    " \n",
    "    return answer\n",
    "\n",
    "solution(n)"
   ]
  },
  {
   "cell_type": "code",
   "execution_count": 8,
   "metadata": {},
   "outputs": [
    {
     "data": {
      "text/plain": [
       "12"
      ]
     },
     "execution_count": 8,
     "metadata": {},
     "output_type": "execute_result"
    }
   ],
   "source": [
    "123 // 10"
   ]
  },
  {
   "cell_type": "code",
   "execution_count": 9,
   "metadata": {},
   "outputs": [
    {
     "data": {
      "text/plain": [
       "3"
      ]
     },
     "execution_count": 9,
     "metadata": {},
     "output_type": "execute_result"
    }
   ],
   "source": [
    "123 % 10"
   ]
  },
  {
   "cell_type": "code",
   "execution_count": 10,
   "metadata": {},
   "outputs": [
    {
     "data": {
      "text/plain": [
       "['1', '234']"
      ]
     },
     "execution_count": 10,
     "metadata": {},
     "output_type": "execute_result"
    }
   ],
   "source": [
    "a = '1 234'\n",
    "a = a.split()\n",
    "a"
   ]
  },
  {
   "cell_type": "code",
   "execution_count": 11,
   "metadata": {},
   "outputs": [
    {
     "name": "stdout",
     "output_type": "stream",
     "text": [
      "[1, 2, 3, 4] ['1', '2', '3', '4']\n"
     ]
    }
   ],
   "source": [
    "a = 1234\n",
    "b = list(map(int, str(a)))\n",
    "c = list(map(str, str(a)))\n",
    "print(b, c)\n"
   ]
  },
  {
   "cell_type": "markdown",
   "metadata": {},
   "source": [
    "문제 설명\n",
    "\n",
    "로또 6/45(이하 '로또'로 표기)는 1부터 45까지의 숫자 중 6개를 찍어서 맞히는 대표적인 복권입니다. 아래는 로또의 순위를 정하는 방식입니다.  \n",
    "\n",
    "1\n",
    "순위\t당첨 내용\n",
    "1\t6개 번호가 모두 일치\n",
    "2\t5개 번호가 일치\n",
    "3\t4개 번호가 일치\n",
    "4\t3개 번호가 일치\n",
    "5\t2개 번호가 일치\n",
    "6(낙첨)\t그 외\n",
    "로또를 구매한 민우는 당첨 번호 발표일을 학수고대하고 있었습니다. 하지만, 민우의 동생이 로또에 낙서를 하여, 일부 번호를 알아볼 수 없게 되었습니다. 당첨 번호 발표 후, 민우는 자신이 구매했던 로또로 당첨이 가능했던 최고 순위와 최저 순위를 알아보고 싶어 졌습니다. \n",
    "알아볼 수 없는 번호를 0으로 표기하기로 하고, 민우가 구매한 로또 번호 6개가 44, 1, 0, 0, 31 25라고 가정해보겠습니다. 당첨 번호 6개가 31, 10, 45, 1, 6, 19라면, 당첨 가능한 최고 순위와 최저 순위의 한 예는 아래와 같습니다.\n",
    "당첨 번호\t31\t10\t45\t1\t6\t19\t결과\n",
    "최고 순위 번호\t31\t0→10\t44\t1\t0→6\t25\t4개 번호 일치, 3등\n",
    "최저 순위 번호\t31\t0→11\t44\t1\t0→7\t25\t2개 번호 일치, 5등\n",
    "순서와 상관없이, 구매한 로또에 당첨 번호와 일치하는 번호가 있으면 맞힌 걸로 인정됩니다.\n",
    "알아볼 수 없는 두 개의 번호를 각각 10, 6이라고 가정하면 3등에 당첨될 수 있습니다.\n",
    "3등을 만드는 다른 방법들도 존재합니다. 하지만, 2등 이상으로 만드는 것은 불가능합니다.\n",
    "알아볼 수 없는 두 개의 번호를 각각 11, 7이라고 가정하면 5등에 당첨될 수 있습니다.\n",
    "5등을 만드는 다른 방법들도 존재합니다. 하지만, 6등(낙첨)으로 만드는 것은 불가능합니다.\n",
    "민우가 구매한 로또 번호를 담은 배열 lottos, 당첨 번호를 담은 배열 win_nums가 매개변수로 주어집니다. 이때, 당첨 가능한 최고 순위와 최저 순위를 차례대로 배열에 담아서 return 하도록 solution 함수를 완성해주세요.\n",
    "제한사항\n",
    "lottos는 길이 6인 정수 배열입니다.\n",
    "lottos의 모든 원소는 0 이상 45 이하인 정수입니다.\n",
    "0은 알아볼 수 없는 숫자를 의미합니다.\n",
    "0을 제외한 다른 숫자들은 lottos에 2개 이상 담겨있지 않습니다.\n",
    "lottos의 원소들은 정렬되어 있지 않을 수도 있습니다.\n",
    "win_nums은 길이 6인 정수 배열입니다.\n",
    "win_nums의 모든 원소는 1 이상 45 이하인 정수입니다.\n",
    "win_nums에는 같은 숫자가 2개 이상 담겨있지 않습니다.\n",
    "win_nums의 원소들은 정렬되어 있지 않을 수도 있습니다.\n",
    "입출력 예\n",
    "lottos\twin_nums\tresult\n",
    "[44, 1, 0, 0, 31, 25]\t[31, 10, 45, 1, 6, 19]\t[3, 5]\n",
    "[0, 0, 0, 0, 0, 0]\t[38, 19, 20, 40, 15, 25]\t[1, 6]\n",
    "[45, 4, 35, 20, 3, 9]\t[20, 9, 3, 45, 4, 35]\t[1, 1]\n",
    "입출력 예 설명\n",
    "입출력 예 #1\n",
    "문제 예시와 같습니다.\n",
    "입출력 예 #2\n",
    "알아볼 수 없는 번호들이 아래와 같았다면, 1등과 6등에 당첨될 수 있습니다.\n",
    "당첨 번호\t38\t19\t20\t40\t15\t25\t결과\n",
    "최고 순위 번호\t0→38\t0→19\t0→20\t0→40\t0→15\t0→25\t6개 번호 일치, 1등\n",
    "최저 순위 번호\t0→21\t0→22\t0→23\t0→24\t0→26\t0→27\t0개 번호 일치, 6등\n",
    "입출력 예 #3\n",
    "민우가 구매한 로또의 번호와 당첨 번호가 모두 일치하므로, 최고 순위와 최저 순위는 모두 1등입니다.\n",
    "실제로 사용되는 로또 순위의 결정 방식과는 약간 다르지만, 이 문제에서는 지문에 명시된 대로 로또 순위를 결정하도록 합니다.  ↩"
   ]
  },
  {
   "cell_type": "code",
   "execution_count": 16,
   "metadata": {},
   "outputs": [
    {
     "name": "stdout",
     "output_type": "stream",
     "text": [
      "[1, 6]\n"
     ]
    }
   ],
   "source": [
    "l1 = [44, 1, 0, 0, 31, 25]\n",
    "\n",
    "\n",
    "w1 = [31, 10, 45, 1, 6, 19]\t\n",
    "\n",
    "\n",
    "# r1 = [3,5]\n",
    "# rw = [1,6]\n",
    "# r3 = [1,1]\n",
    "\n",
    "def solution(lottos, win_nums):\n",
    "\n",
    "    lottos.sort()\n",
    "    win_nums.sort()\n",
    "    correct = 0\n",
    "    unkwon_num = 0\n",
    "    \n",
    "    for i in lottos :\n",
    "        if i == 0 :\n",
    "            unkwon_num += 1\n",
    "        else :\n",
    "            break\n",
    "    del lottos[:unkwon_num]\n",
    "\n",
    "    for i in lottos :\n",
    "        for j in win_nums :\n",
    "            if i == j :\n",
    "                correct += 1\n",
    "                break\n",
    "            else :\n",
    "                pass\n",
    "            \n",
    "    min_rank = 7 - correct\n",
    "    max_rank = min_rank - unkwon_num\n",
    "\n",
    "    if min_rank == 7 :\n",
    "        min_rank = 6\n",
    "\n",
    "    answer = [max_rank, min_rank] \n",
    "    \n",
    "    return answer\n",
    "\n",
    "print(solution(l2, w2))"
   ]
  },
  {
   "cell_type": "code",
   "execution_count": 31,
   "metadata": {},
   "outputs": [
    {
     "data": {
      "text/plain": [
       "[1, 6]"
      ]
     },
     "execution_count": 31,
     "metadata": {},
     "output_type": "execute_result"
    }
   ],
   "source": [
    "# l1 = [44, 1, 0, 0, 31, 25]\n",
    "# w1 = [31, 10, 45, 1, 6, 19]\t\n",
    "l2 = [0,0,0,0,0,0]\n",
    "w2 = [38, 19, 20, 40, 15, 25]\n",
    "# l4 = [1,2,3,4,5,6]\n",
    "# w4 = [7,8,9,10,11,12]\n",
    "# r1 = [3,5]\n",
    "\n",
    "def solution(lottos, win_nums):\n",
    "\n",
    "    lottos.sort()\n",
    "    win_nums.sort()\n",
    "    same = 0\n",
    "    unkwon = lottos.count(0)\n",
    "\n",
    "    for i in lottos :\n",
    "        if i in win_nums :\n",
    "            same += 1\n",
    "\n",
    "    if same >= 1 :\n",
    "        min_rank = 7 - same\n",
    "    else :\n",
    "        min_rank = 6\n",
    "\n",
    "    best_rank = min_rank - unkwon\n",
    "\n",
    "    if (unkwon == 6) & (best_rank == 0) :\n",
    "        best_rank = 1\n",
    "\n",
    "    answer = [best_rank, min_rank]\n",
    "\n",
    "    return answer\n",
    "\n",
    "solution(l2,w2)\n",
    "    "
   ]
  },
  {
   "cell_type": "code",
   "execution_count": 41,
   "metadata": {},
   "outputs": [
    {
     "name": "stdout",
     "output_type": "stream",
     "text": [
      "[3, 5]\n",
      "[1, 6]\n",
      "[6, 6]\n"
     ]
    }
   ],
   "source": [
    "l1 = [44, 1, 0, 0, 31, 25]\n",
    "w1 = [31, 10, 45, 1, 6, 19]\n",
    "l2 = [0,0,0,0,0,0]\n",
    "w2 = [38, 19, 20, 40, 15, 25]\n",
    "l4 = [1,2,3,4,5,6]\n",
    "w4 = [7,8,9,10,11,12]\n",
    "# r1 = [3,5]\n",
    "\n",
    "def solution(lottos, win_nums):\n",
    "    #       0 1 2 3 4 5 6\n",
    "    rank = [6,6,5,4,3,2,1]\n",
    "    same = 0\n",
    "\n",
    "    for i in win_nums :\n",
    "        if i in lottos :\n",
    "            same += 1\n",
    "    \n",
    "    min_rank = rank[same]\n",
    "    max_rank = rank[same + lottos.count(0)]\n",
    "    answer = [max_rank, min_rank]\n",
    "\n",
    "    return answer\n",
    "\n",
    "print(solution(l1,w1))\n",
    "print(solution(l2,w2))\n",
    "print(solution(l4,w4))"
   ]
  },
  {
   "cell_type": "markdown",
   "metadata": {},
   "source": []
  },
  {
   "cell_type": "code",
   "execution_count": 80,
   "metadata": {},
   "outputs": [
    {
     "name": "stdout",
     "output_type": "stream",
     "text": [
      "5\n",
      "6\n",
      "[]\n",
      "3\n",
      "3\n"
     ]
    }
   ],
   "source": [
    "import numpy as np\n",
    "b = [[0,0,0,0,0,0],[0,0,0,1,0,3],[1,0,2,5,0,1],[2,4,2,4,4,2],[4,3,5,1,3,1]]\n",
    "print(len(b))\n",
    "print(len(b[0]))\n",
    "print(np.arange(0,))\n",
    "print(b[1][5])\n",
    "print(b[4][1])"
   ]
  },
  {
   "cell_type": "code",
   "execution_count": 92,
   "metadata": {},
   "outputs": [
    {
     "data": {
      "text/plain": [
       "2"
      ]
     },
     "execution_count": 92,
     "metadata": {},
     "output_type": "execute_result"
    }
   ],
   "source": [
    "b = [[0,0,0,0,0],[0,0,1,0,3],[0,2,5,0,1],[4,2,4,4,2],[3,5,1,3,1]]\n",
    "m = [1,5,3,5,1,2,1,4]\n",
    "# r = 4\n",
    "\n",
    "def solution(board, moves):\n",
    "\n",
    "    can = []\n",
    "    count = 0\n",
    "    \n",
    "    for i in moves :\n",
    "        # i : 뽑는 열\n",
    "        # j : 봅는 행\n",
    "        for j in range(0, len(board)) :\n",
    "            if board[j][i-1] != 0 :\n",
    "                can.append(board[j][i-1])\n",
    "                board[j][i-1] = 0\n",
    "                break\n",
    "            else :\n",
    "                pass\n",
    "\n",
    "    # 전체 길이를 뽑자\n",
    "    for i in range(len(can)-1) :\n",
    "        if can[i-1] == can[i] :\n",
    "            can[i-1] = 0\n",
    "            can[i + 1] = 0\n",
    "            count += 1\n",
    "        else : \n",
    "            pass\n",
    "                \n",
    "    return count\n",
    "\n",
    "solution(b, m)"
   ]
  },
  {
   "cell_type": "code",
   "execution_count": null,
   "metadata": {},
   "outputs": [],
   "source": []
  }
 ],
 "metadata": {
  "kernelspec": {
   "display_name": "Python 3.8.13 ('m1')",
   "language": "python",
   "name": "python3"
  },
  "language_info": {
   "codemirror_mode": {
    "name": "ipython",
    "version": 3
   },
   "file_extension": ".py",
   "mimetype": "text/x-python",
   "name": "python",
   "nbconvert_exporter": "python",
   "pygments_lexer": "ipython3",
   "version": "3.8.13"
  },
  "orig_nbformat": 4,
  "vscode": {
   "interpreter": {
    "hash": "bdc2b39dba4a1a2bb6d840bc8828727e3a4c4135026ee5b84640756028bbf810"
   }
  }
 },
 "nbformat": 4,
 "nbformat_minor": 2
}

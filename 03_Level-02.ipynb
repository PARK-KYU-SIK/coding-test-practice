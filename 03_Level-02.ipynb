{
 "cells": [
  {
   "cell_type": "code",
   "execution_count": null,
   "metadata": {},
   "outputs": [],
   "source": []
  },
  {
   "cell_type": "markdown",
   "metadata": {},
   "source": [
    "# Index"
   ]
  },
  {
   "cell_type": "markdown",
   "metadata": {},
   "source": [
    "# 01 : Quiz 01 : 문자열 압축\n",
    "\n",
    "> 출처\n",
    ">> 프로그래머스\n",
    "\n",
    "> 문제 설명\n",
    ">> 데이터 처리 전문가가 되고 싶은 \"어피치\"는 문자열을 압축하는 방법에 대해 공부를 하고 있습니다. 최근에 대량의 데이터 처리를 위한 간단한 비손실 압축 방법에 대해 공부를 하고 있는데, 문자열에서 같은 값이 연속해서 나타나는 것을 그 문자의 개수와 반복되는 값으로 표현하여 더 짧은 문자열로 줄여서 표현하는 알고리즘을 공부하고 있습니다.\n",
    ">>\n",
    ">> 간단한 예로 \"aabbaccc\"의 경우 \"2a2ba3c\"(문자가 반복되지 않아 한번만 나타난 경우 1은 생략함)와 같이 표현할 수 있는데, 이러한 방식은 반복되는 문자가 적은 경우 압축률이 낮다는 단점이 있습니다. 예를 들면, \"abcabcdede\"와 같은 문자열은 전혀 압축되지 않습니다. \"어피치\"는 이러한 단점을 해결하기 위해 문자열을 1개 이상의 단위로 잘라서 압축하여 더 짧은 문자열로 표현할 수 있는지 방법을 찾아보려고 합니다.  \n",
    ">>\n",
    ">> 예를 들어, \"ababcdcdababcdcd\"의 경우 문자를 1개 단위로 자르면 전혀 압축되지 않지만, 2개 단위로 잘라서 압축한다면   \n",
    ">> \"2ab2cd2ab2cd\"로 표현할 수 있습니다. 다른 방법으로 8개 단위로 잘라서 압축한다면 \"2ababcdcd\"로 표현할 수 있으며, 이때가 가장 짧게 압축하여 표현할 수 있는 방법입니다.  \n",
    ">>\n",
    ">> 다른 예로, \"abcabcdede\"와 같은 경우, 문자를 2개 단위로 잘라서 압축하면  \n",
    ">> \"abcabc2de\"가 되지만, 3개 단위로 자른다면 \"2abcdede\"가 되어 3개 단위가 가장 짧은 압축 방법이 됩니다. 이때 3개 단위로 자르고 마지막에 남는 문자열은 그대로 붙여주면 됩니다.  \n",
    ">>\n",
    ">> 압축할 문자열 s가 매개변수로 주어질 때, 위에 설명한 방법으로 1개 이상 단위로 문자열을 잘라 압축하여 표현한 문자열 중 가장 짧은 것의 길이를 return 하도록 solution 함수를 완성해주세요.\n",
    "\n",
    "> 제한 사항  \n",
    ">> - s의 길이는 1 이상 1,000 이하입니다.  \n",
    ">> - s는 알파벳 소문자로만 이루어져 있습니다.  \n",
    "\n",
    "> 입출력의 예  \n",
    ">> | s | result |  \n",
    ">> | - | - |  \n",
    ">> | \"aabbaccc\" | 7 |  \n",
    ">> | \"ababcdcdababcdcd\" | 9 |  \n",
    ">> | \"abcabcdede\" | 8 |  \n",
    ">> | \"abcabcabcabcdededededede\" | 14 |  \n",
    ">> | \"xababcdcdababcdcd\" | 17 |\n",
    "<br/>\n",
    "\n",
    "> 입출력의 예에 대한 설명  \n",
    ">> 입출력 예 #1  \n",
    ">> 문자열을 1개 단위로 잘라 압축했을 때 가장 짧습니다.  \n",
    ">\n",
    ">> 입출력 예 #2  \n",
    ">> 문자열을 8개 단위로 잘라 압축했을 때 가장 짧습니다.  \n",
    ">\n",
    ">> 입출력 예 #3  \n",
    ">> 문자열을 3개 단위로 잘라 압축했을 때 가장 짧습니다.  \n",
    ">\n",
    ">> 입출력 예 #4  \n",
    ">> 문자열을 2개 단위로 자르면 \"abcabcabcabc6de\" 가 됩니다.  \n",
    ">> 문자열을 3개 단위로 자르면 \"4abcdededededede\" 가 됩니다.  \n",
    ">> 문자열을 4개 단위로 자르면 \"abcabcabcabc3dede\" 가 됩니다.  \n",
    ">> 문자열을 6개 단위로 자를 경우 \"2abcabc2dedede\"가 되며, 이때의 길이가 14로 가장 짧습니다.  \n",
    ">\n",
    ">> 입출력 예 #5  \n",
    ">> 문자열은 제일 앞부터 정해진 길이만큼 잘라야 합니다.  \n",
    ">> 따라서 주어진 문자열을 x / ababcdcd / ababcdcd 로 자르는 것은 불가능 합니다.  \n",
    ">> 이 경우 어떻게 문자열을 잘라도 압축되지 않으므로 가장 짧은 길이는 17이 됩니다.  \n"
   ]
  },
  {
   "cell_type": "code",
   "execution_count": 53,
   "metadata": {},
   "outputs": [
    {
     "data": {
      "text/plain": [
       "('aabbaccc',\n",
       " 'ababcdcdababcdcd',\n",
       " 'abcabcdede',\n",
       " 'abcabcabcabcdededededede',\n",
       " 'xababcdcdababcdcd')"
      ]
     },
     "execution_count": 53,
     "metadata": {},
     "output_type": "execute_result"
    }
   ],
   "source": [
    "s1 = \"aabbaccc\"                 # 8 -> 7\n",
    "s2 = \"ababcdcdababcdcd\"         # 16 - > 9\n",
    "s3 = \"abcabcdede\"               # 10 -> 8\n",
    "s4 = \"abcabcabcabcdededededede\" # 24 -> 14\n",
    "s5 = \"xababcdcdababcdcd\"        # 17 -> 17\n",
    "s = s1, s2, s3, s4, s5"
   ]
  },
  {
   "cell_type": "markdown",
   "metadata": {},
   "source": [
    "## -01 : 내 풀이"
   ]
  },
  {
   "cell_type": "code",
   "execution_count": 56,
   "metadata": {},
   "outputs": [
    {
     "name": "stdout",
     "output_type": "stream",
     "text": [
      "['2a2ba3c', 'aabbaccc', 'aabbaccc', 'aabbaccc']\n",
      "(7, None) \n",
      "\n",
      "['ababcdcdababcdcd', '2ab2cd2ab2cd', 'ababcdcdababcdcd', 'ababcdcdababcdcd', 'ababcdcdababcdcd', 'ababcdcdababcdcd', 'ababcdcdababcdcd', '2ababcdcd']\n",
      "(9, None) \n",
      "\n",
      "['abcabcdede', 'abcabc2de', '2abcdede', 'abcabcdede', 'abcabcdede']\n",
      "(8, None) \n",
      "\n",
      "['abcabcabcabcdededededede', 'abcabcabcabc6de', '4abcdededededede', 'abcabcabcabc3dede', 'abcabcabcabcdededededede', '2abcabc2dedede', 'abcabcabcabcdededededede', 'abcabcabcabcdededededede', 'abcabcabcabcdededededede', 'abcabcabcabcdededededede', 'abcabcabcabcdededededede', 'abcabcabcabcdededededede']\n",
      "(14, None) \n",
      "\n",
      "['xababcdcdababcdcd', 'xababcdcdababcdcd', 'xababcdcdababcdcd', 'xababcdcdababcdcd', 'xababcdcdababcdcd', 'xababcdcdababcdcd', 'xababcdcdababcdcd', 'xababcdcdababcdcd']\n",
      "(17, None) \n",
      "\n"
     ]
    }
   ],
   "source": [
    "def quiz_01(s) :\n",
    "    answer = []\n",
    "    for i in range(1, (len(s)//2)+1) : # 묵음 단위(1개 ~ 전체/2)    # 1/2 길이 이상은 어차피 페어가 될 수 없으므로 하나로 봐야한다\n",
    "        cnt = 0\n",
    "        ans = ''\n",
    "        anss = ''\n",
    "        for j in range(0, len(s), i) :   # 0~(len)까지 묶음단위(stp)로 비교 # ex. (0, 20, 3) -> [0:3] [3:6] / [3:6] [6:9] / [9:12] ...\n",
    "            if s[j:j+i] != s[j+i:j+i+i] :\n",
    "                if cnt > 0 :\n",
    "                    ans = str(cnt+1) + s[j:j+i]   # ans 에 cnt 와 묶음 정보를 갱신한다\n",
    "                    anss += ans                 # anss 에 종합 정보를 갱신한다 \n",
    "                    cnt = 0\n",
    "                else :\n",
    "                    ans = s[j:j+i]\n",
    "                    anss += ans\n",
    "            else :\n",
    "                cnt += 1\n",
    "\n",
    "        answer.append(anss)                     # step에 따른 결과를 리스트로 갱신한다\n",
    "\n",
    "    min_s = len(s)\n",
    "\n",
    "    # 길이를 비교한다\n",
    "    for new_s in answer :\n",
    "        if len(new_s) < min_s and len(new_s) != 0 :\n",
    "            min_s = len(new_s)\n",
    "        \n",
    "    return min_s, print(answer)\n",
    "\n",
    "for i in s :\n",
    "    print(quiz_01(i),'\\n')"
   ]
  },
  {
   "cell_type": "markdown",
   "metadata": {},
   "source": [
    "## -02 : 다른 사람 풀이"
   ]
  },
  {
   "cell_type": "code",
   "execution_count": 59,
   "metadata": {},
   "outputs": [
    {
     "name": "stdout",
     "output_type": "stream",
     "text": [
      "7\n",
      "9\n",
      "8\n",
      "14\n",
      "17\n"
     ]
    }
   ],
   "source": [
    "def compress(text, tok_len):\n",
    "    words = [text[i:i+tok_len] for i in range(0, len(text), tok_len)]\n",
    "    res = []\n",
    "    cur_word = words[0]\n",
    "    cur_cnt = 1\n",
    "    for a, b in zip(words, words[1:] + ['']):\n",
    "        if a == b:\n",
    "            cur_cnt += 1\n",
    "        else:\n",
    "            res.append([cur_word, cur_cnt])\n",
    "            cur_word = b\n",
    "            cur_cnt = 1\n",
    "    return sum(len(word) + (len(str(cnt)) if cnt > 1 else 0) for word, cnt in res)\n",
    "\n",
    "def quiz_01_2(text):\n",
    "    return min(compress(text, tok_len) for tok_len in list(range(1, int(len(text)/2) + 1)) + [len(text)])\n",
    "\n",
    "for x in s:\n",
    "    print(quiz_01_2(x))"
   ]
  },
  {
   "cell_type": "code",
   "execution_count": null,
   "metadata": {},
   "outputs": [],
   "source": []
  }
 ],
 "metadata": {
  "kernelspec": {
   "display_name": "Python 3.8.13 ('m1')",
   "language": "python",
   "name": "python3"
  },
  "language_info": {
   "codemirror_mode": {
    "name": "ipython",
    "version": 3
   },
   "file_extension": ".py",
   "mimetype": "text/x-python",
   "name": "python",
   "nbconvert_exporter": "python",
   "pygments_lexer": "ipython3",
   "version": "3.8.13"
  },
  "orig_nbformat": 4,
  "vscode": {
   "interpreter": {
    "hash": "bdc2b39dba4a1a2bb6d840bc8828727e3a4c4135026ee5b84640756028bbf810"
   }
  }
 },
 "nbformat": 4,
 "nbformat_minor": 2
}
